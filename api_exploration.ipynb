{
 "cells": [
  {
   "cell_type": "code",
   "execution_count": 8,
   "metadata": {},
   "outputs": [],
   "source": [
    "import pandas as pd\n",
    "import googlemaps\n",
    "import yaml\n",
    "from datetime import datetime"
   ]
  },
  {
   "cell_type": "code",
   "execution_count": 7,
   "metadata": {},
   "outputs": [],
   "source": [
    "with open('creds.yaml', 'r') as creds:\n",
    "    api_key = yaml.safe_load(creds)['google_maps_api_key']\n",
    "client = googlemaps.Client(key=api_key)"
   ]
  },
  {
   "cell_type": "code",
   "execution_count": 10,
   "metadata": {},
   "outputs": [],
   "source": [
    "# Set up inputs\n",
    "origins = '2659 Cleveland St NE Minneapolis MN'\n",
    "destinations = '1081 Selke Rd La Crescent MN'\n",
    "mode = 'driving'\n",
    "#avoid = 'tolls'\n",
    "units = 'imperial'\n",
    "# departure_time = datetime(2023, 1, 3, 20) - premium request...\n",
    "# arrival_time = datetime(2023, 1, 3, 20)\n",
    "# transit_mode = 'subway'\n",
    "# transit_routing_preference = 'less_walking'\n",
    "# traffic_model = 'best_guess'\n",
    "\n",
    "response = client.distance_matrix(\n",
    "    origins = origins,\n",
    "    destinations = destinations,\n",
    "    mode = mode,\n",
    "    units = units\n",
    ")"
   ]
  },
  {
   "cell_type": "code",
   "execution_count": 11,
   "metadata": {},
   "outputs": [
    {
     "name": "stdout",
     "output_type": "stream",
     "text": [
      "{'destination_addresses': ['1081 Selke Rd, La Crescent, MN 55947, USA'], 'origin_addresses': ['2659 NE Cleveland St, Minneapolis, MN 55418, USA'], 'rows': [{'elements': [{'distance': {'text': '155 mi', 'value': 249146}, 'duration': {'text': '2 hours 32 mins', 'value': 9118}, 'status': 'OK'}]}], 'status': 'OK'}\n"
     ]
    }
   ],
   "source": [
    "# Get Distance Matrix API Response\n",
    "print(response)"
   ]
  }
 ],
 "metadata": {
  "kernelspec": {
   "display_name": "venv",
   "language": "python",
   "name": "python3"
  },
  "language_info": {
   "codemirror_mode": {
    "name": "ipython",
    "version": 3
   },
   "file_extension": ".py",
   "mimetype": "text/x-python",
   "name": "python",
   "nbconvert_exporter": "python",
   "pygments_lexer": "ipython3",
   "version": "3.10.7 (v3.10.7:6cc6b13308, Sep  5 2022, 14:02:52) [Clang 13.0.0 (clang-1300.0.29.30)]"
  },
  "orig_nbformat": 4,
  "vscode": {
   "interpreter": {
    "hash": "c9918535f73cce464d369eef57e9dcdd3f4324fe3d7fb486b59c4f1b9615fead"
   }
  }
 },
 "nbformat": 4,
 "nbformat_minor": 2
}
